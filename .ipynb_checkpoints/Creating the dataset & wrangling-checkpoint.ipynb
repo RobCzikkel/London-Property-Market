{
 "cells": [
  {
   "cell_type": "markdown",
   "metadata": {},
   "source": [
    "# Preparing the dataset for exploratory analysis\n",
    "\n",
    "\n",
    "## To do:\n",
    "* ~check columns' datatypes~\n",
    "* ~decide what needs conversion~\n",
    "* ~decide what should be deleted~\n",
    "* ~add date column~\n",
    "* add data from Kaggle datasets\n",
    "* create final dataset for DA with all columns\n",
    "* save it to csv and db"
   ]
  },
  {
   "cell_type": "code",
   "execution_count": 130,
   "metadata": {},
   "outputs": [],
   "source": [
    "import pandas as pd\n",
    "from datetime import datetime as dt\n",
    "import numpy as np\n",
    "import re\n",
    "import openpyxl, xlrd"
   ]
  },
  {
   "cell_type": "code",
   "execution_count": 131,
   "metadata": {},
   "outputs": [
    {
     "data": {
      "text/html": [
       "<div>\n",
       "<style scoped>\n",
       "    .dataframe tbody tr th:only-of-type {\n",
       "        vertical-align: middle;\n",
       "    }\n",
       "\n",
       "    .dataframe tbody tr th {\n",
       "        vertical-align: top;\n",
       "    }\n",
       "\n",
       "    .dataframe thead th {\n",
       "        text-align: right;\n",
       "    }\n",
       "</style>\n",
       "<table border=\"1\" class=\"dataframe\">\n",
       "  <thead>\n",
       "    <tr style=\"text-align: right;\">\n",
       "      <th></th>\n",
       "      <th>borough</th>\n",
       "      <th>id</th>\n",
       "      <th>address</th>\n",
       "      <th>link</th>\n",
       "      <th>title</th>\n",
       "      <th>num_of_bed</th>\n",
       "      <th>num_of_bath</th>\n",
       "      <th>reception_room</th>\n",
       "      <th>transport_primary</th>\n",
       "      <th>station1_dist(mi)</th>\n",
       "      <th>transport_secondary</th>\n",
       "      <th>station2_dist(mi)</th>\n",
       "      <th>tag</th>\n",
       "      <th>parking</th>\n",
       "      <th>price</th>\n",
       "    </tr>\n",
       "  </thead>\n",
       "  <tbody>\n",
       "    <tr>\n",
       "      <th>0</th>\n",
       "      <td>city-of-london-london-borough</td>\n",
       "      <td>listing_58614319</td>\n",
       "      <td>One Crown Place, 54 Wilson Street EC2A</td>\n",
       "      <td>/new-homes/details/58614319/?search_identifier...</td>\n",
       "      <td>1 bed flat for sale</td>\n",
       "      <td>1</td>\n",
       "      <td>1</td>\n",
       "      <td>0</td>\n",
       "      <td>national_rail_station</td>\n",
       "      <td>0.2 miles London Liverpool Street</td>\n",
       "      <td>london_underground_station</td>\n",
       "      <td>0.2 miles Liverpool Street</td>\n",
       "      <td>New home</td>\n",
       "      <td>0</td>\n",
       "      <td>£1,030,000</td>\n",
       "    </tr>\n",
       "    <tr>\n",
       "      <th>1</th>\n",
       "      <td>city-of-london-london-borough</td>\n",
       "      <td>listing_58614075</td>\n",
       "      <td>The Barbican, Barbican, London EC2Y</td>\n",
       "      <td>/for-sale/details/58614075/?search_identifier=...</td>\n",
       "      <td>1 bed flat for sale</td>\n",
       "      <td>1</td>\n",
       "      <td>1</td>\n",
       "      <td>1</td>\n",
       "      <td>london_underground_station</td>\n",
       "      <td>0.2 miles Barbican</td>\n",
       "      <td>national_rail_station</td>\n",
       "      <td>0.2 miles Moorgate</td>\n",
       "      <td>New home</td>\n",
       "      <td>0</td>\n",
       "      <td>£725,000</td>\n",
       "    </tr>\n",
       "    <tr>\n",
       "      <th>2</th>\n",
       "      <td>city-of-london-london-borough</td>\n",
       "      <td>listing_52061413</td>\n",
       "      <td>Principal Tower, Worship Lane, Shoreditch EC2A</td>\n",
       "      <td>/for-sale/details/52061413/?search_identifier=...</td>\n",
       "      <td>1 bed flat for sale</td>\n",
       "      <td>1</td>\n",
       "      <td>1</td>\n",
       "      <td>1</td>\n",
       "      <td>national_rail_station</td>\n",
       "      <td>0.2 miles Shoreditch High Street</td>\n",
       "      <td>national_rail_station</td>\n",
       "      <td>0.3 miles London Liverpool Street</td>\n",
       "      <td>New home</td>\n",
       "      <td>0</td>\n",
       "      <td>£875,000</td>\n",
       "    </tr>\n",
       "    <tr>\n",
       "      <th>3</th>\n",
       "      <td>city-of-london-london-borough</td>\n",
       "      <td>listing_55657629</td>\n",
       "      <td>One Crown Place, Hackney EC2A</td>\n",
       "      <td>/new-homes/details/55657629/?search_identifier...</td>\n",
       "      <td>2 bed flat for sale</td>\n",
       "      <td>2</td>\n",
       "      <td>2</td>\n",
       "      <td>0</td>\n",
       "      <td>national_rail_station</td>\n",
       "      <td>0.2 miles London Liverpool Street</td>\n",
       "      <td>london_underground_station</td>\n",
       "      <td>0.2 miles Liverpool Street</td>\n",
       "      <td>New home</td>\n",
       "      <td>0</td>\n",
       "      <td>£1,750,000</td>\n",
       "    </tr>\n",
       "    <tr>\n",
       "      <th>4</th>\n",
       "      <td>city-of-london-london-borough</td>\n",
       "      <td>listing_58592857</td>\n",
       "      <td>Barbican, London EC2Y</td>\n",
       "      <td>/for-sale/details/58592857/?search_identifier=...</td>\n",
       "      <td>Studio for sale</td>\n",
       "      <td>1</td>\n",
       "      <td>1</td>\n",
       "      <td>1</td>\n",
       "      <td>london_underground_station</td>\n",
       "      <td>0 miles Barbican</td>\n",
       "      <td>national_rail_station</td>\n",
       "      <td>0.3 miles Moorgate</td>\n",
       "      <td>New home</td>\n",
       "      <td>0</td>\n",
       "      <td>£535,000</td>\n",
       "    </tr>\n",
       "  </tbody>\n",
       "</table>\n",
       "</div>"
      ],
      "text/plain": [
       "                         borough                id  \\\n",
       "0  city-of-london-london-borough  listing_58614319   \n",
       "1  city-of-london-london-borough  listing_58614075   \n",
       "2  city-of-london-london-borough  listing_52061413   \n",
       "3  city-of-london-london-borough  listing_55657629   \n",
       "4  city-of-london-london-borough  listing_58592857   \n",
       "\n",
       "                                          address  \\\n",
       "0          One Crown Place, 54 Wilson Street EC2A   \n",
       "1             The Barbican, Barbican, London EC2Y   \n",
       "2  Principal Tower, Worship Lane, Shoreditch EC2A   \n",
       "3                   One Crown Place, Hackney EC2A   \n",
       "4                           Barbican, London EC2Y   \n",
       "\n",
       "                                                link                title  \\\n",
       "0  /new-homes/details/58614319/?search_identifier...  1 bed flat for sale   \n",
       "1  /for-sale/details/58614075/?search_identifier=...  1 bed flat for sale   \n",
       "2  /for-sale/details/52061413/?search_identifier=...  1 bed flat for sale   \n",
       "3  /new-homes/details/55657629/?search_identifier...  2 bed flat for sale   \n",
       "4  /for-sale/details/58592857/?search_identifier=...      Studio for sale   \n",
       "\n",
       "   num_of_bed  num_of_bath  reception_room           transport_primary  \\\n",
       "0           1            1               0       national_rail_station   \n",
       "1           1            1               1  london_underground_station   \n",
       "2           1            1               1       national_rail_station   \n",
       "3           2            2               0       national_rail_station   \n",
       "4           1            1               1  london_underground_station   \n",
       "\n",
       "                   station1_dist(mi)         transport_secondary  \\\n",
       "0  0.2 miles London Liverpool Street  london_underground_station   \n",
       "1                 0.2 miles Barbican       national_rail_station   \n",
       "2   0.2 miles Shoreditch High Street       national_rail_station   \n",
       "3  0.2 miles London Liverpool Street  london_underground_station   \n",
       "4                   0 miles Barbican       national_rail_station   \n",
       "\n",
       "                   station2_dist(mi)       tag  parking       price  \n",
       "0         0.2 miles Liverpool Street  New home        0  £1,030,000  \n",
       "1                 0.2 miles Moorgate  New home        0    £725,000  \n",
       "2  0.3 miles London Liverpool Street  New home        0    £875,000  \n",
       "3         0.2 miles Liverpool Street  New home        0  £1,750,000  \n",
       "4                 0.3 miles Moorgate  New home        0    £535,000  "
      ]
     },
     "execution_count": 131,
     "metadata": {},
     "output_type": "execute_result"
    }
   ],
   "source": [
    "df = pd.read_csv('ldn_properties.csv', index_col=0)\n",
    "df.head()"
   ]
  },
  {
   "cell_type": "code",
   "execution_count": 132,
   "metadata": {},
   "outputs": [
    {
     "data": {
      "text/plain": [
       "borough                object\n",
       "id                     object\n",
       "address                object\n",
       "link                   object\n",
       "title                  object\n",
       "num_of_bed              int64\n",
       "num_of_bath             int64\n",
       "reception_room          int64\n",
       "transport_primary      object\n",
       "station1_dist(mi)      object\n",
       "transport_secondary    object\n",
       "station2_dist(mi)      object\n",
       "tag                    object\n",
       "parking                 int64\n",
       "price                  object\n",
       "dtype: object"
      ]
     },
     "execution_count": 132,
     "metadata": {},
     "output_type": "execute_result"
    }
   ],
   "source": [
    "df.dtypes"
   ]
  },
  {
   "cell_type": "markdown",
   "metadata": {},
   "source": [
    "## Typecasting and formatting:\n",
    "\n",
    "* ~**check for duplicates** - use the id columns~\n",
    "* ~**check for missing data**~\n",
    "* ~**price** - delete currency sign and convert it to int~\n",
    "* ~**station1/2** - extract miles and convert them to floats~\n",
    "* **delete** - link"
   ]
  },
  {
   "cell_type": "code",
   "execution_count": 10,
   "metadata": {
    "scrolled": false
   },
   "outputs": [
    {
     "data": {
      "text/plain": [
       "7317"
      ]
     },
     "execution_count": 10,
     "metadata": {},
     "output_type": "execute_result"
    }
   ],
   "source": [
    "df.duplicated(subset='id').sum()"
   ]
  },
  {
   "cell_type": "code",
   "execution_count": 11,
   "metadata": {},
   "outputs": [],
   "source": [
    "df.drop_duplicates('id', keep='first', inplace=True)"
   ]
  },
  {
   "cell_type": "code",
   "execution_count": 12,
   "metadata": {},
   "outputs": [
    {
     "data": {
      "text/plain": [
       "(63837, 15)"
      ]
     },
     "execution_count": 12,
     "metadata": {},
     "output_type": "execute_result"
    }
   ],
   "source": [
    "df.shape"
   ]
  },
  {
   "cell_type": "code",
   "execution_count": 13,
   "metadata": {},
   "outputs": [
    {
     "data": {
      "text/plain": [
       "borough                0\n",
       "id                     0\n",
       "address                0\n",
       "link                   0\n",
       "title                  0\n",
       "num_of_bed             0\n",
       "num_of_bath            0\n",
       "reception_room         0\n",
       "transport_primary      0\n",
       "station1_dist(mi)      0\n",
       "transport_secondary    0\n",
       "station2_dist(mi)      0\n",
       "tag                    0\n",
       "parking                0\n",
       "price                  0\n",
       "dtype: int64"
      ]
     },
     "execution_count": 13,
     "metadata": {},
     "output_type": "execute_result"
    }
   ],
   "source": [
    "df.isna().sum()"
   ]
  },
  {
   "cell_type": "code",
   "execution_count": 14,
   "metadata": {},
   "outputs": [
    {
     "data": {
      "text/plain": [
       "borough                0\n",
       "id                     0\n",
       "address                0\n",
       "link                   0\n",
       "title                  0\n",
       "num_of_bed             0\n",
       "num_of_bath            0\n",
       "reception_room         0\n",
       "transport_primary      0\n",
       "station1_dist(mi)      0\n",
       "transport_secondary    0\n",
       "station2_dist(mi)      0\n",
       "tag                    0\n",
       "parking                0\n",
       "price                  0\n",
       "dtype: int64"
      ]
     },
     "execution_count": 14,
     "metadata": {},
     "output_type": "execute_result"
    }
   ],
   "source": [
    "df.isnull().sum()"
   ]
  },
  {
   "cell_type": "code",
   "execution_count": 15,
   "metadata": {
    "scrolled": true
   },
   "outputs": [
    {
     "name": "stderr",
     "output_type": "stream",
     "text": [
      "/Users/robertczikkel/anaconda3/lib/python3.8/site-packages/pandas/core/strings.py:2001: UserWarning: This pattern has match groups. To actually get the groups, use str.extract.\n",
      "  return func(self, *args, **kwargs)\n"
     ]
    },
    {
     "data": {
      "text/plain": [
       "304      POA\n",
       "305      POA\n",
       "595      POA\n",
       "596      POA\n",
       "638      POA\n",
       "        ... \n",
       "70832    POA\n",
       "71014    POA\n",
       "71069    POA\n",
       "71095    POA\n",
       "71130    POA\n",
       "Name: price, Length: 446, dtype: object"
      ]
     },
     "execution_count": 15,
     "metadata": {},
     "output_type": "execute_result"
    }
   ],
   "source": [
    "# Checking if price values are digits only\n",
    "filt = df['price'].str.contains(re.compile(r'(\\d),|\\d+,\\d+'))\n",
    "df.loc[~filt,'price']"
   ]
  },
  {
   "cell_type": "markdown",
   "metadata": {},
   "source": [
    "There seem to be POA values in the price column, these will be dropped"
   ]
  },
  {
   "cell_type": "code",
   "execution_count": 16,
   "metadata": {},
   "outputs": [],
   "source": [
    "df.drop(index=df[df['price'] == 'POA'].index, inplace=True)"
   ]
  },
  {
   "cell_type": "code",
   "execution_count": 17,
   "metadata": {},
   "outputs": [
    {
     "data": {
      "text/html": [
       "<div>\n",
       "<style scoped>\n",
       "    .dataframe tbody tr th:only-of-type {\n",
       "        vertical-align: middle;\n",
       "    }\n",
       "\n",
       "    .dataframe tbody tr th {\n",
       "        vertical-align: top;\n",
       "    }\n",
       "\n",
       "    .dataframe thead th {\n",
       "        text-align: right;\n",
       "    }\n",
       "</style>\n",
       "<table border=\"1\" class=\"dataframe\">\n",
       "  <thead>\n",
       "    <tr style=\"text-align: right;\">\n",
       "      <th></th>\n",
       "      <th>borough</th>\n",
       "      <th>id</th>\n",
       "      <th>address</th>\n",
       "      <th>link</th>\n",
       "      <th>title</th>\n",
       "      <th>num_of_bed</th>\n",
       "      <th>num_of_bath</th>\n",
       "      <th>reception_room</th>\n",
       "      <th>transport_primary</th>\n",
       "      <th>station1_dist(mi)</th>\n",
       "      <th>transport_secondary</th>\n",
       "      <th>station2_dist(mi)</th>\n",
       "      <th>tag</th>\n",
       "      <th>parking</th>\n",
       "      <th>price</th>\n",
       "    </tr>\n",
       "  </thead>\n",
       "  <tbody>\n",
       "  </tbody>\n",
       "</table>\n",
       "</div>"
      ],
      "text/plain": [
       "Empty DataFrame\n",
       "Columns: [borough, id, address, link, title, num_of_bed, num_of_bath, reception_room, transport_primary, station1_dist(mi), transport_secondary, station2_dist(mi), tag, parking, price]\n",
       "Index: []"
      ]
     },
     "execution_count": 17,
     "metadata": {},
     "output_type": "execute_result"
    }
   ],
   "source": [
    "df.loc[df['price'] == 'POA']"
   ]
  },
  {
   "cell_type": "code",
   "execution_count": 18,
   "metadata": {},
   "outputs": [],
   "source": [
    "#Converting prices into integers\n",
    "df['price'] = [int(x.replace('£', '').replace(',', '')) for x in df['price']]"
   ]
  },
  {
   "cell_type": "code",
   "execution_count": 19,
   "metadata": {
    "scrolled": true
   },
   "outputs": [
    {
     "data": {
      "text/plain": [
       "dtype('int64')"
      ]
     },
     "execution_count": 19,
     "metadata": {},
     "output_type": "execute_result"
    }
   ],
   "source": [
    "df['price'].dtypes"
   ]
  },
  {
   "cell_type": "code",
   "execution_count": 20,
   "metadata": {},
   "outputs": [],
   "source": [
    "# Extracting the distance in miles\n",
    "df['station1_dist(mi)'] = [float(x.split(' ')[0]) for x in df['station1_dist(mi)']]"
   ]
  },
  {
   "cell_type": "code",
   "execution_count": 21,
   "metadata": {},
   "outputs": [
    {
     "data": {
      "text/plain": [
       "0        0.2\n",
       "1        0.2\n",
       "2        0.2\n",
       "3        0.2\n",
       "4        0.0\n",
       "        ... \n",
       "71146    0.5\n",
       "71147    0.1\n",
       "71149    0.1\n",
       "71150    1.2\n",
       "71151    1.6\n",
       "Name: station1_dist(mi), Length: 63391, dtype: float64"
      ]
     },
     "execution_count": 21,
     "metadata": {},
     "output_type": "execute_result"
    }
   ],
   "source": [
    "df['station1_dist(mi)']"
   ]
  },
  {
   "cell_type": "code",
   "execution_count": 22,
   "metadata": {},
   "outputs": [],
   "source": [
    "df['station2_dist(mi)'] = [float(x.split(' ')[0]) for x in df['station2_dist(mi)']]"
   ]
  },
  {
   "cell_type": "code",
   "execution_count": 23,
   "metadata": {},
   "outputs": [
    {
     "data": {
      "text/plain": [
       "0        0.2\n",
       "1        0.2\n",
       "2        0.3\n",
       "3        0.2\n",
       "4        0.3\n",
       "        ... \n",
       "71146    0.8\n",
       "71147    1.8\n",
       "71149    1.8\n",
       "71150    1.3\n",
       "71151    1.6\n",
       "Name: station2_dist(mi), Length: 63391, dtype: float64"
      ]
     },
     "execution_count": 23,
     "metadata": {},
     "output_type": "execute_result"
    }
   ],
   "source": [
    "df['station2_dist(mi)']"
   ]
  },
  {
   "cell_type": "code",
   "execution_count": 24,
   "metadata": {},
   "outputs": [],
   "source": [
    "del df['link']"
   ]
  },
  {
   "cell_type": "code",
   "execution_count": 25,
   "metadata": {},
   "outputs": [
    {
     "data": {
      "text/plain": [
       "borough                 object\n",
       "id                      object\n",
       "address                 object\n",
       "title                   object\n",
       "num_of_bed               int64\n",
       "num_of_bath              int64\n",
       "reception_room           int64\n",
       "transport_primary       object\n",
       "station1_dist(mi)      float64\n",
       "transport_secondary     object\n",
       "station2_dist(mi)      float64\n",
       "tag                     object\n",
       "parking                  int64\n",
       "price                    int64\n",
       "dtype: object"
      ]
     },
     "execution_count": 25,
     "metadata": {},
     "output_type": "execute_result"
    }
   ],
   "source": [
    "df.dtypes"
   ]
  },
  {
   "cell_type": "code",
   "execution_count": 26,
   "metadata": {},
   "outputs": [],
   "source": [
    "# Date of accessing the scraped website (this will be useful in the future for time series analysis if I continue to scrape every month)\n",
    "df['date'] = dt.now().date()"
   ]
  },
  {
   "cell_type": "code",
   "execution_count": 28,
   "metadata": {},
   "outputs": [
    {
     "data": {
      "text/plain": [
       "0        city-of-london-london-borough\n",
       "1        city-of-london-london-borough\n",
       "2        city-of-london-london-borough\n",
       "3        city-of-london-london-borough\n",
       "4        city-of-london-london-borough\n",
       "                     ...              \n",
       "71146        hillingdon-london-borough\n",
       "71147        hillingdon-london-borough\n",
       "71149        hillingdon-london-borough\n",
       "71150        hillingdon-london-borough\n",
       "71151        hillingdon-london-borough\n",
       "Name: borough, Length: 63391, dtype: object"
      ]
     },
     "execution_count": 28,
     "metadata": {},
     "output_type": "execute_result"
    }
   ],
   "source": [
    "df['borough']"
   ]
  },
  {
   "cell_type": "code",
   "execution_count": 133,
   "metadata": {},
   "outputs": [],
   "source": [
    "# Reformatting the boroughs\n",
    "regex = re.compile(r'-london-borough|-royal-borough')\n",
    "df['borough'] = [regex.sub('', x) for x in df['borough']]"
   ]
  },
  {
   "cell_type": "code",
   "execution_count": 135,
   "metadata": {},
   "outputs": [
    {
     "data": {
      "text/plain": [
       "0        city of london\n",
       "1        city of london\n",
       "2        city of london\n",
       "3        city of london\n",
       "4        city of london\n",
       "              ...      \n",
       "71149        hillingdon\n",
       "71150        hillingdon\n",
       "71151        hillingdon\n",
       "71152            merton\n",
       "71153           croydon\n",
       "Name: borough, Length: 71154, dtype: object"
      ]
     },
     "execution_count": 135,
     "metadata": {},
     "output_type": "execute_result"
    }
   ],
   "source": [
    "df['borough'] = [x.replace('-', ' ') for x in df['borough']]\n",
    "df['borough']"
   ]
  },
  {
   "cell_type": "markdown",
   "metadata": {},
   "source": [
    "# Assessing the downloaded datasets:\n",
    "* extract data for main dataset for DS:\n",
    "    * satisfaction index\n",
    "    * happiness index\n",
    "    * mean/median salary\n",
    "    * crime rates\n",
    "* note down which datasets can be used for Dashboard/Report"
   ]
  },
  {
   "cell_type": "code",
   "execution_count": 109,
   "metadata": {},
   "outputs": [],
   "source": [
    "wb = pd.read_excel('./datasets/personal-well-being-borough.xlsx', sheet_name=1, header=[0, 1])"
   ]
  },
  {
   "cell_type": "code",
   "execution_count": 119,
   "metadata": {},
   "outputs": [],
   "source": [
    "wb.dropna(subset=[(' ', 'Area')], axis=0, inplace=True)"
   ]
  },
  {
   "cell_type": "code",
   "execution_count": 127,
   "metadata": {},
   "outputs": [],
   "source": [
    "wb.loc[:, (' ', 'Area')] = wb[' ']['Area'].str.lower()"
   ]
  },
  {
   "cell_type": "code",
   "execution_count": 185,
   "metadata": {
    "scrolled": true
   },
   "outputs": [],
   "source": [
    "wb.loc[:, ('Life Satisfaction','2018/19')] = wb['Life Satisfaction']['2018/19'].replace(np.nan, np.mean(wb['Life Satisfaction']['2018/19']))"
   ]
  },
  {
   "cell_type": "code",
   "execution_count": 192,
   "metadata": {},
   "outputs": [],
   "source": [
    "wb.loc[:, ('Happiness','2018/19')] = wb['Happiness']['2018/19'].replace('x', np.mean(wb['Life Satisfaction']['2018/19']))"
   ]
  },
  {
   "cell_type": "code",
   "execution_count": 200,
   "metadata": {},
   "outputs": [],
   "source": [
    "df['satisfaction'] = [wb.loc[wb[' ']['Area'] == x, 'Life Satisfaction']['2018/19'].values[:1] for x in df['borough']]"
   ]
  },
  {
   "cell_type": "code",
   "execution_count": 190,
   "metadata": {},
   "outputs": [
    {
     "data": {
      "text/plain": [
       "0           [x]\n",
       "1           [x]\n",
       "2           [x]\n",
       "3           [x]\n",
       "4           [x]\n",
       "          ...  \n",
       "71149    [7.67]\n",
       "71150    [7.67]\n",
       "71151    [7.67]\n",
       "71152    [7.57]\n",
       "71153    [7.78]\n",
       "Name: happiness, Length: 71154, dtype: object"
      ]
     },
     "execution_count": 190,
     "metadata": {},
     "output_type": "execute_result"
    }
   ],
   "source": [
    "df['happiness'] = [wb.loc[wb[' ']['Area'] == x, 'Happiness']['2018/19'].values for x in df['borough']]"
   ]
  }
 ],
 "metadata": {
  "kernelspec": {
   "display_name": "Python 3",
   "language": "python",
   "name": "python3"
  },
  "language_info": {
   "codemirror_mode": {
    "name": "ipython",
    "version": 3
   },
   "file_extension": ".py",
   "mimetype": "text/x-python",
   "name": "python",
   "nbconvert_exporter": "python",
   "pygments_lexer": "ipython3",
   "version": "3.8.5"
  }
 },
 "nbformat": 4,
 "nbformat_minor": 4
}
