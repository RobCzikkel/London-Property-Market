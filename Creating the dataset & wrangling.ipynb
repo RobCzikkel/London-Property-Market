{
 "cells": [
  {
   "cell_type": "markdown",
   "metadata": {},
   "source": [
    "# Preparing the dataset for exploratory analysis\n",
    "\n",
    "\n",
    "## To do:\n",
    "* ~check columns' datatypes~\n",
    "* ~decide what needs conversion~\n",
    "* ~decide what should be deleted~\n",
    "* ~add date column~\n",
    "* add data from Kaggle datasets\n",
    "* create final dataset for DA/DS with all columns\n",
    "* save it to csv and db"
   ]
  },
  {
   "cell_type": "code",
   "execution_count": 168,
   "metadata": {},
   "outputs": [],
   "source": [
    "import pandas as pd\n",
    "from datetime import datetime as dt\n",
    "import numpy as np\n",
    "import re\n",
    "import openpyxl, xlrd"
   ]
  },
  {
   "cell_type": "code",
   "execution_count": 169,
   "metadata": {},
   "outputs": [
    {
     "data": {
      "text/html": [
       "<div>\n",
       "<style scoped>\n",
       "    .dataframe tbody tr th:only-of-type {\n",
       "        vertical-align: middle;\n",
       "    }\n",
       "\n",
       "    .dataframe tbody tr th {\n",
       "        vertical-align: top;\n",
       "    }\n",
       "\n",
       "    .dataframe thead th {\n",
       "        text-align: right;\n",
       "    }\n",
       "</style>\n",
       "<table border=\"1\" class=\"dataframe\">\n",
       "  <thead>\n",
       "    <tr style=\"text-align: right;\">\n",
       "      <th></th>\n",
       "      <th>borough</th>\n",
       "      <th>id</th>\n",
       "      <th>address</th>\n",
       "      <th>link</th>\n",
       "      <th>title</th>\n",
       "      <th>num_of_bed</th>\n",
       "      <th>num_of_bath</th>\n",
       "      <th>reception_room</th>\n",
       "      <th>transport_primary</th>\n",
       "      <th>station1_dist(mi)</th>\n",
       "      <th>transport_secondary</th>\n",
       "      <th>station2_dist(mi)</th>\n",
       "      <th>tag</th>\n",
       "      <th>parking</th>\n",
       "      <th>price</th>\n",
       "    </tr>\n",
       "  </thead>\n",
       "  <tbody>\n",
       "    <tr>\n",
       "      <th>0</th>\n",
       "      <td>city-of-london-london-borough</td>\n",
       "      <td>listing_58614319</td>\n",
       "      <td>One Crown Place, 54 Wilson Street EC2A</td>\n",
       "      <td>/new-homes/details/58614319/?search_identifier...</td>\n",
       "      <td>1 bed flat for sale</td>\n",
       "      <td>1</td>\n",
       "      <td>1</td>\n",
       "      <td>0</td>\n",
       "      <td>national_rail_station</td>\n",
       "      <td>0.2 miles London Liverpool Street</td>\n",
       "      <td>london_underground_station</td>\n",
       "      <td>0.2 miles Liverpool Street</td>\n",
       "      <td>New home</td>\n",
       "      <td>0</td>\n",
       "      <td>£1,030,000</td>\n",
       "    </tr>\n",
       "    <tr>\n",
       "      <th>1</th>\n",
       "      <td>city-of-london-london-borough</td>\n",
       "      <td>listing_58614075</td>\n",
       "      <td>The Barbican, Barbican, London EC2Y</td>\n",
       "      <td>/for-sale/details/58614075/?search_identifier=...</td>\n",
       "      <td>1 bed flat for sale</td>\n",
       "      <td>1</td>\n",
       "      <td>1</td>\n",
       "      <td>1</td>\n",
       "      <td>london_underground_station</td>\n",
       "      <td>0.2 miles Barbican</td>\n",
       "      <td>national_rail_station</td>\n",
       "      <td>0.2 miles Moorgate</td>\n",
       "      <td>New home</td>\n",
       "      <td>0</td>\n",
       "      <td>£725,000</td>\n",
       "    </tr>\n",
       "    <tr>\n",
       "      <th>2</th>\n",
       "      <td>city-of-london-london-borough</td>\n",
       "      <td>listing_52061413</td>\n",
       "      <td>Principal Tower, Worship Lane, Shoreditch EC2A</td>\n",
       "      <td>/for-sale/details/52061413/?search_identifier=...</td>\n",
       "      <td>1 bed flat for sale</td>\n",
       "      <td>1</td>\n",
       "      <td>1</td>\n",
       "      <td>1</td>\n",
       "      <td>national_rail_station</td>\n",
       "      <td>0.2 miles Shoreditch High Street</td>\n",
       "      <td>national_rail_station</td>\n",
       "      <td>0.3 miles London Liverpool Street</td>\n",
       "      <td>New home</td>\n",
       "      <td>0</td>\n",
       "      <td>£875,000</td>\n",
       "    </tr>\n",
       "    <tr>\n",
       "      <th>3</th>\n",
       "      <td>city-of-london-london-borough</td>\n",
       "      <td>listing_55657629</td>\n",
       "      <td>One Crown Place, Hackney EC2A</td>\n",
       "      <td>/new-homes/details/55657629/?search_identifier...</td>\n",
       "      <td>2 bed flat for sale</td>\n",
       "      <td>2</td>\n",
       "      <td>2</td>\n",
       "      <td>0</td>\n",
       "      <td>national_rail_station</td>\n",
       "      <td>0.2 miles London Liverpool Street</td>\n",
       "      <td>london_underground_station</td>\n",
       "      <td>0.2 miles Liverpool Street</td>\n",
       "      <td>New home</td>\n",
       "      <td>0</td>\n",
       "      <td>£1,750,000</td>\n",
       "    </tr>\n",
       "    <tr>\n",
       "      <th>4</th>\n",
       "      <td>city-of-london-london-borough</td>\n",
       "      <td>listing_58592857</td>\n",
       "      <td>Barbican, London EC2Y</td>\n",
       "      <td>/for-sale/details/58592857/?search_identifier=...</td>\n",
       "      <td>Studio for sale</td>\n",
       "      <td>1</td>\n",
       "      <td>1</td>\n",
       "      <td>1</td>\n",
       "      <td>london_underground_station</td>\n",
       "      <td>0 miles Barbican</td>\n",
       "      <td>national_rail_station</td>\n",
       "      <td>0.3 miles Moorgate</td>\n",
       "      <td>New home</td>\n",
       "      <td>0</td>\n",
       "      <td>£535,000</td>\n",
       "    </tr>\n",
       "  </tbody>\n",
       "</table>\n",
       "</div>"
      ],
      "text/plain": [
       "                         borough                id  \\\n",
       "0  city-of-london-london-borough  listing_58614319   \n",
       "1  city-of-london-london-borough  listing_58614075   \n",
       "2  city-of-london-london-borough  listing_52061413   \n",
       "3  city-of-london-london-borough  listing_55657629   \n",
       "4  city-of-london-london-borough  listing_58592857   \n",
       "\n",
       "                                          address  \\\n",
       "0          One Crown Place, 54 Wilson Street EC2A   \n",
       "1             The Barbican, Barbican, London EC2Y   \n",
       "2  Principal Tower, Worship Lane, Shoreditch EC2A   \n",
       "3                   One Crown Place, Hackney EC2A   \n",
       "4                           Barbican, London EC2Y   \n",
       "\n",
       "                                                link                title  \\\n",
       "0  /new-homes/details/58614319/?search_identifier...  1 bed flat for sale   \n",
       "1  /for-sale/details/58614075/?search_identifier=...  1 bed flat for sale   \n",
       "2  /for-sale/details/52061413/?search_identifier=...  1 bed flat for sale   \n",
       "3  /new-homes/details/55657629/?search_identifier...  2 bed flat for sale   \n",
       "4  /for-sale/details/58592857/?search_identifier=...      Studio for sale   \n",
       "\n",
       "   num_of_bed  num_of_bath  reception_room           transport_primary  \\\n",
       "0           1            1               0       national_rail_station   \n",
       "1           1            1               1  london_underground_station   \n",
       "2           1            1               1       national_rail_station   \n",
       "3           2            2               0       national_rail_station   \n",
       "4           1            1               1  london_underground_station   \n",
       "\n",
       "                   station1_dist(mi)         transport_secondary  \\\n",
       "0  0.2 miles London Liverpool Street  london_underground_station   \n",
       "1                 0.2 miles Barbican       national_rail_station   \n",
       "2   0.2 miles Shoreditch High Street       national_rail_station   \n",
       "3  0.2 miles London Liverpool Street  london_underground_station   \n",
       "4                   0 miles Barbican       national_rail_station   \n",
       "\n",
       "                   station2_dist(mi)       tag  parking       price  \n",
       "0         0.2 miles Liverpool Street  New home        0  £1,030,000  \n",
       "1                 0.2 miles Moorgate  New home        0    £725,000  \n",
       "2  0.3 miles London Liverpool Street  New home        0    £875,000  \n",
       "3         0.2 miles Liverpool Street  New home        0  £1,750,000  \n",
       "4                 0.3 miles Moorgate  New home        0    £535,000  "
      ]
     },
     "execution_count": 169,
     "metadata": {},
     "output_type": "execute_result"
    }
   ],
   "source": [
    "df = pd.read_csv('ldn_properties.csv', index_col=0)\n",
    "df.head()"
   ]
  },
  {
   "cell_type": "code",
   "execution_count": 170,
   "metadata": {},
   "outputs": [
    {
     "data": {
      "text/plain": [
       "borough                object\n",
       "id                     object\n",
       "address                object\n",
       "link                   object\n",
       "title                  object\n",
       "num_of_bed              int64\n",
       "num_of_bath             int64\n",
       "reception_room          int64\n",
       "transport_primary      object\n",
       "station1_dist(mi)      object\n",
       "transport_secondary    object\n",
       "station2_dist(mi)      object\n",
       "tag                    object\n",
       "parking                 int64\n",
       "price                  object\n",
       "dtype: object"
      ]
     },
     "execution_count": 170,
     "metadata": {},
     "output_type": "execute_result"
    }
   ],
   "source": [
    "df.dtypes"
   ]
  },
  {
   "cell_type": "markdown",
   "metadata": {},
   "source": [
    "## Typecasting and formatting:\n",
    "\n",
    "* ~**check for duplicates** - use the id columns~\n",
    "* ~**check for missing data**~\n",
    "* ~**price** - delete currency sign and convert it to int~\n",
    "* ~**station1/2** - extract miles and convert them to floats~\n",
    "* **delete** - link"
   ]
  },
  {
   "cell_type": "code",
   "execution_count": 171,
   "metadata": {
    "scrolled": false
   },
   "outputs": [
    {
     "data": {
      "text/plain": [
       "7317"
      ]
     },
     "execution_count": 171,
     "metadata": {},
     "output_type": "execute_result"
    }
   ],
   "source": [
    "df.duplicated(subset='id').sum()"
   ]
  },
  {
   "cell_type": "code",
   "execution_count": 172,
   "metadata": {},
   "outputs": [],
   "source": [
    "df.drop_duplicates('id', keep='first', inplace=True)"
   ]
  },
  {
   "cell_type": "code",
   "execution_count": 173,
   "metadata": {},
   "outputs": [
    {
     "data": {
      "text/plain": [
       "(63837, 15)"
      ]
     },
     "execution_count": 173,
     "metadata": {},
     "output_type": "execute_result"
    }
   ],
   "source": [
    "df.shape"
   ]
  },
  {
   "cell_type": "code",
   "execution_count": 174,
   "metadata": {},
   "outputs": [
    {
     "data": {
      "text/plain": [
       "borough                0\n",
       "id                     0\n",
       "address                0\n",
       "link                   0\n",
       "title                  0\n",
       "num_of_bed             0\n",
       "num_of_bath            0\n",
       "reception_room         0\n",
       "transport_primary      0\n",
       "station1_dist(mi)      0\n",
       "transport_secondary    0\n",
       "station2_dist(mi)      0\n",
       "tag                    0\n",
       "parking                0\n",
       "price                  0\n",
       "dtype: int64"
      ]
     },
     "execution_count": 174,
     "metadata": {},
     "output_type": "execute_result"
    }
   ],
   "source": [
    "df.isna().sum()"
   ]
  },
  {
   "cell_type": "code",
   "execution_count": 175,
   "metadata": {},
   "outputs": [
    {
     "data": {
      "text/plain": [
       "borough                0\n",
       "id                     0\n",
       "address                0\n",
       "link                   0\n",
       "title                  0\n",
       "num_of_bed             0\n",
       "num_of_bath            0\n",
       "reception_room         0\n",
       "transport_primary      0\n",
       "station1_dist(mi)      0\n",
       "transport_secondary    0\n",
       "station2_dist(mi)      0\n",
       "tag                    0\n",
       "parking                0\n",
       "price                  0\n",
       "dtype: int64"
      ]
     },
     "execution_count": 175,
     "metadata": {},
     "output_type": "execute_result"
    }
   ],
   "source": [
    "df.isnull().sum()"
   ]
  },
  {
   "cell_type": "code",
   "execution_count": 176,
   "metadata": {
    "scrolled": true
   },
   "outputs": [
    {
     "name": "stderr",
     "output_type": "stream",
     "text": [
      "C:\\Users\\Robert\\anaconda3\\lib\\site-packages\\pandas\\core\\strings.py:2001: UserWarning: This pattern has match groups. To actually get the groups, use str.extract.\n",
      "  return func(self, *args, **kwargs)\n"
     ]
    },
    {
     "data": {
      "text/plain": [
       "304      POA\n",
       "305      POA\n",
       "595      POA\n",
       "596      POA\n",
       "638      POA\n",
       "        ... \n",
       "70832    POA\n",
       "71014    POA\n",
       "71069    POA\n",
       "71095    POA\n",
       "71130    POA\n",
       "Name: price, Length: 446, dtype: object"
      ]
     },
     "execution_count": 176,
     "metadata": {},
     "output_type": "execute_result"
    }
   ],
   "source": [
    "# Checking if price values are digits only\n",
    "filt = df['price'].str.contains(re.compile(r'(\\d),|\\d+,\\d+'))\n",
    "df.loc[~filt,'price']"
   ]
  },
  {
   "cell_type": "markdown",
   "metadata": {},
   "source": [
    "There seem to be POA values in the price column, these will be dropped"
   ]
  },
  {
   "cell_type": "code",
   "execution_count": 177,
   "metadata": {},
   "outputs": [],
   "source": [
    "df.drop(index=df[df['price'] == 'POA'].index, inplace=True)"
   ]
  },
  {
   "cell_type": "code",
   "execution_count": 178,
   "metadata": {},
   "outputs": [
    {
     "data": {
      "text/html": [
       "<div>\n",
       "<style scoped>\n",
       "    .dataframe tbody tr th:only-of-type {\n",
       "        vertical-align: middle;\n",
       "    }\n",
       "\n",
       "    .dataframe tbody tr th {\n",
       "        vertical-align: top;\n",
       "    }\n",
       "\n",
       "    .dataframe thead th {\n",
       "        text-align: right;\n",
       "    }\n",
       "</style>\n",
       "<table border=\"1\" class=\"dataframe\">\n",
       "  <thead>\n",
       "    <tr style=\"text-align: right;\">\n",
       "      <th></th>\n",
       "      <th>borough</th>\n",
       "      <th>id</th>\n",
       "      <th>address</th>\n",
       "      <th>link</th>\n",
       "      <th>title</th>\n",
       "      <th>num_of_bed</th>\n",
       "      <th>num_of_bath</th>\n",
       "      <th>reception_room</th>\n",
       "      <th>transport_primary</th>\n",
       "      <th>station1_dist(mi)</th>\n",
       "      <th>transport_secondary</th>\n",
       "      <th>station2_dist(mi)</th>\n",
       "      <th>tag</th>\n",
       "      <th>parking</th>\n",
       "      <th>price</th>\n",
       "    </tr>\n",
       "  </thead>\n",
       "  <tbody>\n",
       "  </tbody>\n",
       "</table>\n",
       "</div>"
      ],
      "text/plain": [
       "Empty DataFrame\n",
       "Columns: [borough, id, address, link, title, num_of_bed, num_of_bath, reception_room, transport_primary, station1_dist(mi), transport_secondary, station2_dist(mi), tag, parking, price]\n",
       "Index: []"
      ]
     },
     "execution_count": 178,
     "metadata": {},
     "output_type": "execute_result"
    }
   ],
   "source": [
    "df.loc[df['price'] == 'POA']"
   ]
  },
  {
   "cell_type": "code",
   "execution_count": 179,
   "metadata": {},
   "outputs": [],
   "source": [
    "#Converting prices into integers\n",
    "df['price'] = [int(x.replace('£', '').replace(',', '')) for x in df['price']]"
   ]
  },
  {
   "cell_type": "code",
   "execution_count": 180,
   "metadata": {
    "scrolled": true
   },
   "outputs": [
    {
     "data": {
      "text/plain": [
       "dtype('int64')"
      ]
     },
     "execution_count": 180,
     "metadata": {},
     "output_type": "execute_result"
    }
   ],
   "source": [
    "df['price'].dtypes"
   ]
  },
  {
   "cell_type": "code",
   "execution_count": 181,
   "metadata": {},
   "outputs": [],
   "source": [
    "# Extracting the distance in miles\n",
    "df['station1_dist(mi)'] = [float(x.split(' ')[0]) for x in df['station1_dist(mi)']]"
   ]
  },
  {
   "cell_type": "code",
   "execution_count": 182,
   "metadata": {},
   "outputs": [
    {
     "data": {
      "text/plain": [
       "0        0.2\n",
       "1        0.2\n",
       "2        0.2\n",
       "3        0.2\n",
       "4        0.0\n",
       "        ... \n",
       "71146    0.5\n",
       "71147    0.1\n",
       "71149    0.1\n",
       "71150    1.2\n",
       "71151    1.6\n",
       "Name: station1_dist(mi), Length: 63391, dtype: float64"
      ]
     },
     "execution_count": 182,
     "metadata": {},
     "output_type": "execute_result"
    }
   ],
   "source": [
    "df['station1_dist(mi)']"
   ]
  },
  {
   "cell_type": "code",
   "execution_count": 183,
   "metadata": {},
   "outputs": [],
   "source": [
    "df['station2_dist(mi)'] = [float(x.split(' ')[0]) for x in df['station2_dist(mi)']]"
   ]
  },
  {
   "cell_type": "code",
   "execution_count": 184,
   "metadata": {},
   "outputs": [
    {
     "data": {
      "text/plain": [
       "0        0.2\n",
       "1        0.2\n",
       "2        0.3\n",
       "3        0.2\n",
       "4        0.3\n",
       "        ... \n",
       "71146    0.8\n",
       "71147    1.8\n",
       "71149    1.8\n",
       "71150    1.3\n",
       "71151    1.6\n",
       "Name: station2_dist(mi), Length: 63391, dtype: float64"
      ]
     },
     "execution_count": 184,
     "metadata": {},
     "output_type": "execute_result"
    }
   ],
   "source": [
    "df['station2_dist(mi)']"
   ]
  },
  {
   "cell_type": "code",
   "execution_count": 185,
   "metadata": {},
   "outputs": [],
   "source": [
    "del df['link']"
   ]
  },
  {
   "cell_type": "code",
   "execution_count": 186,
   "metadata": {},
   "outputs": [
    {
     "data": {
      "text/plain": [
       "borough                 object\n",
       "id                      object\n",
       "address                 object\n",
       "title                   object\n",
       "num_of_bed               int64\n",
       "num_of_bath              int64\n",
       "reception_room           int64\n",
       "transport_primary       object\n",
       "station1_dist(mi)      float64\n",
       "transport_secondary     object\n",
       "station2_dist(mi)      float64\n",
       "tag                     object\n",
       "parking                  int64\n",
       "price                    int64\n",
       "dtype: object"
      ]
     },
     "execution_count": 186,
     "metadata": {},
     "output_type": "execute_result"
    }
   ],
   "source": [
    "df.dtypes"
   ]
  },
  {
   "cell_type": "code",
   "execution_count": 187,
   "metadata": {},
   "outputs": [],
   "source": [
    "# Date of accessing the scraped website (this will be useful in the future for time series analysis if I continue to scrape every month)\n",
    "df['date'] = dt.now().date()"
   ]
  },
  {
   "cell_type": "code",
   "execution_count": 188,
   "metadata": {},
   "outputs": [
    {
     "data": {
      "text/plain": [
       "0        city-of-london-london-borough\n",
       "1        city-of-london-london-borough\n",
       "2        city-of-london-london-borough\n",
       "3        city-of-london-london-borough\n",
       "4        city-of-london-london-borough\n",
       "                     ...              \n",
       "71146        hillingdon-london-borough\n",
       "71147        hillingdon-london-borough\n",
       "71149        hillingdon-london-borough\n",
       "71150        hillingdon-london-borough\n",
       "71151        hillingdon-london-borough\n",
       "Name: borough, Length: 63391, dtype: object"
      ]
     },
     "execution_count": 188,
     "metadata": {},
     "output_type": "execute_result"
    }
   ],
   "source": [
    "df['borough']"
   ]
  },
  {
   "cell_type": "code",
   "execution_count": 189,
   "metadata": {},
   "outputs": [],
   "source": [
    "# Reformatting the boroughs\n",
    "regex = re.compile(r'-london-borough|-royal-borough')\n",
    "df['borough'] = [regex.sub('', x) for x in df['borough']]"
   ]
  },
  {
   "cell_type": "code",
   "execution_count": 190,
   "metadata": {},
   "outputs": [
    {
     "data": {
      "text/plain": [
       "0        city of london\n",
       "1        city of london\n",
       "2        city of london\n",
       "3        city of london\n",
       "4        city of london\n",
       "              ...      \n",
       "71146        hillingdon\n",
       "71147        hillingdon\n",
       "71149        hillingdon\n",
       "71150        hillingdon\n",
       "71151        hillingdon\n",
       "Name: borough, Length: 63391, dtype: object"
      ]
     },
     "execution_count": 190,
     "metadata": {},
     "output_type": "execute_result"
    }
   ],
   "source": [
    "df['borough'] = [x.replace('-', ' ') for x in df['borough']]\n",
    "df['borough']"
   ]
  },
  {
   "cell_type": "markdown",
   "metadata": {},
   "source": [
    "# Assessing the downloaded datasets:\n",
    "* extract data for main dataset for DS:\n",
    "    * satisfaction index\n",
    "    * happiness index\n",
    "    * mean/median salary\n",
    "    * crime rates\n",
    "* note down which datasets can be used for Dashboard/Report"
   ]
  },
  {
   "cell_type": "markdown",
   "metadata": {},
   "source": [
    "## Well being dataset"
   ]
  },
  {
   "cell_type": "code",
   "execution_count": 191,
   "metadata": {},
   "outputs": [],
   "source": [
    "wb = pd.read_excel('./datasets/personal-well-being-borough.xlsx', sheet_name=1, header=[0, 1])"
   ]
  },
  {
   "cell_type": "code",
   "execution_count": 192,
   "metadata": {},
   "outputs": [],
   "source": [
    "wb.dropna(subset=[(' ', 'Area')], axis=0, inplace=True)"
   ]
  },
  {
   "cell_type": "code",
   "execution_count": 193,
   "metadata": {},
   "outputs": [],
   "source": [
    "wb.loc[:, (' ', 'Area')] = wb[' ']['Area'].str.lower()"
   ]
  },
  {
   "cell_type": "code",
   "execution_count": 194,
   "metadata": {
    "scrolled": true
   },
   "outputs": [],
   "source": [
    "wb.loc[:, ('Life Satisfaction','2018/19')] = wb['Life Satisfaction']['2018/19'].replace(np.nan, round(np.mean(wb['Life Satisfaction']['2018/19']), 2))"
   ]
  },
  {
   "cell_type": "code",
   "execution_count": 195,
   "metadata": {},
   "outputs": [],
   "source": [
    "wb.loc[:, ('Happiness','2018/19')] = wb['Happiness']['2018/19'].replace('x', round(np.mean(wb['Life Satisfaction']['2018/19']), 2))"
   ]
  },
  {
   "cell_type": "code",
   "execution_count": 196,
   "metadata": {},
   "outputs": [
    {
     "data": {
      "text/plain": [
       "{'city of westminster'}"
      ]
     },
     "execution_count": 196,
     "metadata": {},
     "output_type": "execute_result"
    }
   ],
   "source": [
    "borough_set1 = set(df['borough'].unique())\n",
    "borough_set2 = set(wb[' ']['Area'])\n",
    "borough_set1.difference(borough_set2)"
   ]
  },
  {
   "cell_type": "code",
   "execution_count": 197,
   "metadata": {
    "scrolled": true
   },
   "outputs": [
    {
     "data": {
      "text/plain": [
       "{'barking and dagenham',\n",
       " 'barnet',\n",
       " 'bexley',\n",
       " 'brent',\n",
       " 'bromley',\n",
       " 'camden',\n",
       " 'city of london',\n",
       " 'croydon',\n",
       " 'ealing',\n",
       " 'east midlands',\n",
       " 'east of england',\n",
       " 'enfield',\n",
       " 'england',\n",
       " 'greenwich',\n",
       " 'hackney',\n",
       " 'hammersmith and fulham',\n",
       " 'haringey',\n",
       " 'harrow',\n",
       " 'havering',\n",
       " 'hillingdon',\n",
       " 'hounslow',\n",
       " 'islington',\n",
       " 'kensington and chelsea',\n",
       " 'kingston upon thames',\n",
       " 'lambeth',\n",
       " 'lewisham',\n",
       " 'london',\n",
       " 'merton',\n",
       " 'newham',\n",
       " 'north east',\n",
       " 'north west',\n",
       " 'northern ireland',\n",
       " 'redbridge',\n",
       " 'richmond upon thames',\n",
       " 'scotland',\n",
       " 'south east',\n",
       " 'south west',\n",
       " 'southwark',\n",
       " 'sutton',\n",
       " 'tower hamlets',\n",
       " 'uk',\n",
       " 'wales',\n",
       " 'waltham forest',\n",
       " 'wandsworth',\n",
       " 'west midlands',\n",
       " 'westminster',\n",
       " 'yorkshire and the humber'}"
      ]
     },
     "execution_count": 197,
     "metadata": {},
     "output_type": "execute_result"
    }
   ],
   "source": [
    "borough_set2"
   ]
  },
  {
   "cell_type": "code",
   "execution_count": 199,
   "metadata": {},
   "outputs": [],
   "source": [
    "wb.loc[wb[' ']['Area'] == 'westminster', (' ', 'Area')] = 'city of westminster'"
   ]
  },
  {
   "cell_type": "code",
   "execution_count": 200,
   "metadata": {},
   "outputs": [],
   "source": [
    "df['satisfaction'] = [wb.loc[wb[' ']['Area'] == x, 'Life Satisfaction']['2018/19'].values[0] for x in df['borough']]"
   ]
  },
  {
   "cell_type": "code",
   "execution_count": 201,
   "metadata": {
    "scrolled": true
   },
   "outputs": [],
   "source": [
    "df['happiness'] = [wb.loc[wb[' ']['Area'] == x, 'Happiness']['2018/19'].values[0] for x in df['borough']]"
   ]
  },
  {
   "cell_type": "markdown",
   "metadata": {},
   "source": [
    "## Crime rates dataset"
   ]
  },
  {
   "cell_type": "code",
   "execution_count": 202,
   "metadata": {},
   "outputs": [
    {
     "data": {
      "text/html": [
       "<div>\n",
       "<style scoped>\n",
       "    .dataframe tbody tr th:only-of-type {\n",
       "        vertical-align: middle;\n",
       "    }\n",
       "\n",
       "    .dataframe tbody tr th {\n",
       "        vertical-align: top;\n",
       "    }\n",
       "\n",
       "    .dataframe thead th {\n",
       "        text-align: right;\n",
       "    }\n",
       "</style>\n",
       "<table border=\"1\" class=\"dataframe\">\n",
       "  <thead>\n",
       "    <tr style=\"text-align: right;\">\n",
       "      <th></th>\n",
       "      <th>date</th>\n",
       "      <th>area</th>\n",
       "      <th>average_price</th>\n",
       "      <th>code</th>\n",
       "      <th>houses_sold</th>\n",
       "      <th>no_of_crimes</th>\n",
       "      <th>borough_flag</th>\n",
       "    </tr>\n",
       "  </thead>\n",
       "  <tbody>\n",
       "    <tr>\n",
       "      <th>0</th>\n",
       "      <td>1/1/1995</td>\n",
       "      <td>city of london</td>\n",
       "      <td>91449</td>\n",
       "      <td>E09000001</td>\n",
       "      <td>17.0</td>\n",
       "      <td>NaN</td>\n",
       "      <td>1</td>\n",
       "    </tr>\n",
       "    <tr>\n",
       "      <th>1</th>\n",
       "      <td>2/1/1995</td>\n",
       "      <td>city of london</td>\n",
       "      <td>82203</td>\n",
       "      <td>E09000001</td>\n",
       "      <td>7.0</td>\n",
       "      <td>NaN</td>\n",
       "      <td>1</td>\n",
       "    </tr>\n",
       "    <tr>\n",
       "      <th>2</th>\n",
       "      <td>3/1/1995</td>\n",
       "      <td>city of london</td>\n",
       "      <td>79121</td>\n",
       "      <td>E09000001</td>\n",
       "      <td>14.0</td>\n",
       "      <td>NaN</td>\n",
       "      <td>1</td>\n",
       "    </tr>\n",
       "    <tr>\n",
       "      <th>3</th>\n",
       "      <td>4/1/1995</td>\n",
       "      <td>city of london</td>\n",
       "      <td>77101</td>\n",
       "      <td>E09000001</td>\n",
       "      <td>7.0</td>\n",
       "      <td>NaN</td>\n",
       "      <td>1</td>\n",
       "    </tr>\n",
       "    <tr>\n",
       "      <th>4</th>\n",
       "      <td>5/1/1995</td>\n",
       "      <td>city of london</td>\n",
       "      <td>84409</td>\n",
       "      <td>E09000001</td>\n",
       "      <td>10.0</td>\n",
       "      <td>NaN</td>\n",
       "      <td>1</td>\n",
       "    </tr>\n",
       "  </tbody>\n",
       "</table>\n",
       "</div>"
      ],
      "text/plain": [
       "       date            area  average_price       code  houses_sold  \\\n",
       "0  1/1/1995  city of london          91449  E09000001         17.0   \n",
       "1  2/1/1995  city of london          82203  E09000001          7.0   \n",
       "2  3/1/1995  city of london          79121  E09000001         14.0   \n",
       "3  4/1/1995  city of london          77101  E09000001          7.0   \n",
       "4  5/1/1995  city of london          84409  E09000001         10.0   \n",
       "\n",
       "   no_of_crimes  borough_flag  \n",
       "0           NaN             1  \n",
       "1           NaN             1  \n",
       "2           NaN             1  \n",
       "3           NaN             1  \n",
       "4           NaN             1  "
      ]
     },
     "execution_count": 202,
     "metadata": {},
     "output_type": "execute_result"
    }
   ],
   "source": [
    "cr = pd.read_csv('./datasets/housing_in_london_monthly_variables.csv')\n",
    "cr.head()"
   ]
  },
  {
   "cell_type": "code",
   "execution_count": 203,
   "metadata": {},
   "outputs": [
    {
     "data": {
      "text/plain": [
       "date              object\n",
       "area              object\n",
       "average_price      int64\n",
       "code              object\n",
       "houses_sold      float64\n",
       "no_of_crimes     float64\n",
       "borough_flag       int64\n",
       "dtype: object"
      ]
     },
     "execution_count": 203,
     "metadata": {},
     "output_type": "execute_result"
    }
   ],
   "source": [
    "cr.dtypes"
   ]
  },
  {
   "cell_type": "code",
   "execution_count": 204,
   "metadata": {},
   "outputs": [],
   "source": [
    "cr['date'] = [x.split('/')[-1] for x in cr['date']]"
   ]
  },
  {
   "cell_type": "code",
   "execution_count": 205,
   "metadata": {},
   "outputs": [],
   "source": [
    "group = cr.groupby(['date'])\n",
    "rates_2020 = group.get_group('2020')"
   ]
  },
  {
   "cell_type": "code",
   "execution_count": 206,
   "metadata": {},
   "outputs": [
    {
     "data": {
      "text/plain": [
       "{'city of westminster'}"
      ]
     },
     "execution_count": 206,
     "metadata": {},
     "output_type": "execute_result"
    }
   ],
   "source": [
    "borough_set = set(rates_2020['area'])\n",
    "borough_set1.difference(borough_set2)"
   ]
  },
  {
   "cell_type": "code",
   "execution_count": 207,
   "metadata": {
    "scrolled": true
   },
   "outputs": [
    {
     "data": {
      "text/plain": [
       "{'barking and dagenham',\n",
       " 'barnet',\n",
       " 'bexley',\n",
       " 'brent',\n",
       " 'bromley',\n",
       " 'camden',\n",
       " 'city of london',\n",
       " 'croydon',\n",
       " 'ealing',\n",
       " 'east midlands',\n",
       " 'east of england',\n",
       " 'enfield',\n",
       " 'england',\n",
       " 'greenwich',\n",
       " 'hackney',\n",
       " 'hammersmith and fulham',\n",
       " 'haringey',\n",
       " 'harrow',\n",
       " 'havering',\n",
       " 'hillingdon',\n",
       " 'hounslow',\n",
       " 'islington',\n",
       " 'kensington and chelsea',\n",
       " 'kingston upon thames',\n",
       " 'lambeth',\n",
       " 'lewisham',\n",
       " 'london',\n",
       " 'merton',\n",
       " 'newham',\n",
       " 'north east',\n",
       " 'north west',\n",
       " 'northern ireland',\n",
       " 'redbridge',\n",
       " 'richmond upon thames',\n",
       " 'scotland',\n",
       " 'south east',\n",
       " 'south west',\n",
       " 'southwark',\n",
       " 'sutton',\n",
       " 'tower hamlets',\n",
       " 'uk',\n",
       " 'wales',\n",
       " 'waltham forest',\n",
       " 'wandsworth',\n",
       " 'west midlands',\n",
       " 'westminster',\n",
       " 'yorkshire and the humber'}"
      ]
     },
     "execution_count": 207,
     "metadata": {},
     "output_type": "execute_result"
    }
   ],
   "source": [
    "borough_set2"
   ]
  },
  {
   "cell_type": "code",
   "execution_count": 208,
   "metadata": {},
   "outputs": [
    {
     "name": "stderr",
     "output_type": "stream",
     "text": [
      "C:\\Users\\Robert\\anaconda3\\lib\\site-packages\\pandas\\core\\indexing.py:1765: SettingWithCopyWarning: \n",
      "A value is trying to be set on a copy of a slice from a DataFrame.\n",
      "Try using .loc[row_indexer,col_indexer] = value instead\n",
      "\n",
      "See the caveats in the documentation: https://pandas.pydata.org/pandas-docs/stable/user_guide/indexing.html#returning-a-view-versus-a-copy\n",
      "  isetter(loc, value)\n"
     ]
    }
   ],
   "source": [
    "rates_2020.loc[rates_2020['area'] == 'westminster', 'area'] = 'city of westminster'"
   ]
  },
  {
   "cell_type": "code",
   "execution_count": 209,
   "metadata": {
    "scrolled": true
   },
   "outputs": [],
   "source": [
    "df['crime rate'] = [rates_2020.loc[rates_2020['area'] == x, 'no_of_crimes'].values[0] for x in df['borough']]"
   ]
  },
  {
   "cell_type": "markdown",
   "metadata": {},
   "source": [
    "# Median salary dataset"
   ]
  },
  {
   "cell_type": "code",
   "execution_count": 210,
   "metadata": {},
   "outputs": [],
   "source": [
    "ms = pd.read_csv('./datasets/housing_in_london_yearly_variables.csv')"
   ]
  },
  {
   "cell_type": "code",
   "execution_count": 211,
   "metadata": {},
   "outputs": [
    {
     "data": {
      "text/html": [
       "<div>\n",
       "<style scoped>\n",
       "    .dataframe tbody tr th:only-of-type {\n",
       "        vertical-align: middle;\n",
       "    }\n",
       "\n",
       "    .dataframe tbody tr th {\n",
       "        vertical-align: top;\n",
       "    }\n",
       "\n",
       "    .dataframe thead th {\n",
       "        text-align: right;\n",
       "    }\n",
       "</style>\n",
       "<table border=\"1\" class=\"dataframe\">\n",
       "  <thead>\n",
       "    <tr style=\"text-align: right;\">\n",
       "      <th></th>\n",
       "      <th>code</th>\n",
       "      <th>area</th>\n",
       "      <th>date</th>\n",
       "      <th>median_salary</th>\n",
       "      <th>life_satisfaction</th>\n",
       "      <th>mean_salary</th>\n",
       "      <th>recycling_pct</th>\n",
       "      <th>population_size</th>\n",
       "      <th>number_of_jobs</th>\n",
       "      <th>area_size</th>\n",
       "      <th>no_of_houses</th>\n",
       "      <th>borough_flag</th>\n",
       "    </tr>\n",
       "  </thead>\n",
       "  <tbody>\n",
       "    <tr>\n",
       "      <th>1066</th>\n",
       "      <td>K03000001</td>\n",
       "      <td>great britain</td>\n",
       "      <td>12/1/2019</td>\n",
       "      <td>30446.0</td>\n",
       "      <td>NaN</td>\n",
       "      <td>37603</td>\n",
       "      <td>NaN</td>\n",
       "      <td>NaN</td>\n",
       "      <td>NaN</td>\n",
       "      <td>NaN</td>\n",
       "      <td>NaN</td>\n",
       "      <td>0</td>\n",
       "    </tr>\n",
       "    <tr>\n",
       "      <th>1067</th>\n",
       "      <td>K04000001</td>\n",
       "      <td>england and wales</td>\n",
       "      <td>12/1/2019</td>\n",
       "      <td>30500.0</td>\n",
       "      <td>NaN</td>\n",
       "      <td>37865</td>\n",
       "      <td>NaN</td>\n",
       "      <td>NaN</td>\n",
       "      <td>NaN</td>\n",
       "      <td>NaN</td>\n",
       "      <td>NaN</td>\n",
       "      <td>0</td>\n",
       "    </tr>\n",
       "    <tr>\n",
       "      <th>1068</th>\n",
       "      <td>N92000002</td>\n",
       "      <td>northern ireland</td>\n",
       "      <td>12/1/2019</td>\n",
       "      <td>27434.0</td>\n",
       "      <td>NaN</td>\n",
       "      <td>32083</td>\n",
       "      <td>NaN</td>\n",
       "      <td>NaN</td>\n",
       "      <td>NaN</td>\n",
       "      <td>NaN</td>\n",
       "      <td>NaN</td>\n",
       "      <td>0</td>\n",
       "    </tr>\n",
       "    <tr>\n",
       "      <th>1069</th>\n",
       "      <td>S92000003</td>\n",
       "      <td>scotland</td>\n",
       "      <td>12/1/2019</td>\n",
       "      <td>30000.0</td>\n",
       "      <td>NaN</td>\n",
       "      <td>34916</td>\n",
       "      <td>NaN</td>\n",
       "      <td>NaN</td>\n",
       "      <td>NaN</td>\n",
       "      <td>NaN</td>\n",
       "      <td>NaN</td>\n",
       "      <td>0</td>\n",
       "    </tr>\n",
       "    <tr>\n",
       "      <th>1070</th>\n",
       "      <td>W92000004</td>\n",
       "      <td>wales</td>\n",
       "      <td>12/1/2019</td>\n",
       "      <td>27500.0</td>\n",
       "      <td>NaN</td>\n",
       "      <td>31251</td>\n",
       "      <td>NaN</td>\n",
       "      <td>NaN</td>\n",
       "      <td>NaN</td>\n",
       "      <td>NaN</td>\n",
       "      <td>NaN</td>\n",
       "      <td>0</td>\n",
       "    </tr>\n",
       "  </tbody>\n",
       "</table>\n",
       "</div>"
      ],
      "text/plain": [
       "           code               area       date  median_salary  \\\n",
       "1066  K03000001      great britain  12/1/2019        30446.0   \n",
       "1067  K04000001  england and wales  12/1/2019        30500.0   \n",
       "1068  N92000002   northern ireland  12/1/2019        27434.0   \n",
       "1069  S92000003           scotland  12/1/2019        30000.0   \n",
       "1070  W92000004              wales  12/1/2019        27500.0   \n",
       "\n",
       "      life_satisfaction mean_salary recycling_pct  population_size  \\\n",
       "1066                NaN       37603           NaN              NaN   \n",
       "1067                NaN       37865           NaN              NaN   \n",
       "1068                NaN       32083           NaN              NaN   \n",
       "1069                NaN       34916           NaN              NaN   \n",
       "1070                NaN       31251           NaN              NaN   \n",
       "\n",
       "      number_of_jobs  area_size  no_of_houses  borough_flag  \n",
       "1066             NaN        NaN           NaN             0  \n",
       "1067             NaN        NaN           NaN             0  \n",
       "1068             NaN        NaN           NaN             0  \n",
       "1069             NaN        NaN           NaN             0  \n",
       "1070             NaN        NaN           NaN             0  "
      ]
     },
     "execution_count": 211,
     "metadata": {},
     "output_type": "execute_result"
    }
   ],
   "source": [
    "ms.tail()"
   ]
  },
  {
   "cell_type": "code",
   "execution_count": 212,
   "metadata": {},
   "outputs": [],
   "source": [
    "ms['date'] = [x.split('/')[-1] for x in ms['date']]"
   ]
  },
  {
   "cell_type": "code",
   "execution_count": 213,
   "metadata": {},
   "outputs": [
    {
     "name": "stderr",
     "output_type": "stream",
     "text": [
      "C:\\Users\\Robert\\anaconda3\\lib\\site-packages\\pandas\\core\\indexing.py:1765: SettingWithCopyWarning: \n",
      "A value is trying to be set on a copy of a slice from a DataFrame.\n",
      "Try using .loc[row_indexer,col_indexer] = value instead\n",
      "\n",
      "See the caveats in the documentation: https://pandas.pydata.org/pandas-docs/stable/user_guide/indexing.html#returning-a-view-versus-a-copy\n",
      "  isetter(loc, value)\n"
     ]
    }
   ],
   "source": [
    "ms_group = ms.groupby(['date'])\n",
    "ms_2020 = ms_group.get_group('2019')\n",
    "ms_2020.loc[ms_2020['area'] == 'westminster', 'area'] = 'city of westminster'"
   ]
  },
  {
   "cell_type": "code",
   "execution_count": 214,
   "metadata": {},
   "outputs": [],
   "source": [
    "df['median salary'] = [ms_2020.loc[ms_2020['area'] == x, 'median_salary'].values[0] for x in df['borough']]"
   ]
  },
  {
   "cell_type": "code",
   "execution_count": 215,
   "metadata": {},
   "outputs": [
    {
     "data": {
      "text/plain": [
       "borough                 object\n",
       "id                      object\n",
       "address                 object\n",
       "title                   object\n",
       "num_of_bed               int64\n",
       "num_of_bath              int64\n",
       "reception_room           int64\n",
       "transport_primary       object\n",
       "station1_dist(mi)      float64\n",
       "transport_secondary     object\n",
       "station2_dist(mi)      float64\n",
       "tag                     object\n",
       "parking                  int64\n",
       "price                    int64\n",
       "date                    object\n",
       "satisfaction           float64\n",
       "happiness              float64\n",
       "crime rate             float64\n",
       "median salary          float64\n",
       "dtype: object"
      ]
     },
     "execution_count": 215,
     "metadata": {},
     "output_type": "execute_result"
    }
   ],
   "source": [
    "df.dtypes"
   ]
  }
 ],
 "metadata": {
  "kernelspec": {
   "display_name": "Python 3",
   "language": "python",
   "name": "python3"
  },
  "language_info": {
   "codemirror_mode": {
    "name": "ipython",
    "version": 3
   },
   "file_extension": ".py",
   "mimetype": "text/x-python",
   "name": "python",
   "nbconvert_exporter": "python",
   "pygments_lexer": "ipython3",
   "version": "3.8.5"
  }
 },
 "nbformat": 4,
 "nbformat_minor": 4
}
