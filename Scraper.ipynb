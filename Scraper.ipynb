{
 "cells": [
  {
   "cell_type": "markdown",
   "metadata": {},
   "source": [
    "# To do:\n",
    "* Scrape listings\n",
    "* List of Boroughs\n",
    "* Data on crime rates, salaries etc... (Kaggle, Google, Gov stats)\n",
    "* Save it all to database"
   ]
  },
  {
   "cell_type": "code",
   "execution_count": 72,
   "metadata": {},
   "outputs": [
    {
     "name": "stdout",
     "output_type": "stream",
     "text": [
      "https://www.zoopla.co.uk/for-sale/property/lambeth/?page_size=25&q=lambeth&radius=0&results_sort=newest_listings&pn=1\n"
     ]
    }
   ],
   "source": [
    "borough = 'lambeth'\n",
    "page = '1'\n",
    "url = f'https://www.zoopla.co.uk/for-sale/property/{borough}/?page_size=25&q=lambeth&radius=0&results_sort=newest_listings&pn={page}'\n",
    "print(url)"
   ]
  },
  {
   "cell_type": "code",
   "execution_count": 73,
   "metadata": {},
   "outputs": [],
   "source": [
    "from bs4 import BeautifulSoup\n",
    "import requests\n",
    "import numpy as np"
   ]
  },
  {
   "cell_type": "markdown",
   "metadata": {},
   "source": [
    "# Scraping all boroughs process:\n",
    "* scrape boroughs into a list\n",
    "    * loop through boroughs list to create urls\n",
    "        * get number of pages with each url\n",
    "            * loop through listings with range"
   ]
  },
  {
   "cell_type": "code",
   "execution_count": 98,
   "metadata": {},
   "outputs": [],
   "source": [
    "price_list = []\n",
    "bed_list = []\n",
    "bath_list = []\n",
    "chair_list = []\n",
    "link_list = []\n",
    "title_list = []\n",
    "address_list = []\n",
    "transport1_list = []\n",
    "transport2_list = []\n",
    "transport_type_1_list = []\n",
    "transport_type_2_list = []\n",
    "tag_list = []\n",
    "parking_list = []"
   ]
  },
  {
   "cell_type": "code",
   "execution_count": 99,
   "metadata": {},
   "outputs": [],
   "source": [
    "data = requests.get(url).content\n",
    "soup = BeautifulSoup(data, 'html.parser')\n",
    "last_page_nr = int(soup.find_all('li', {'class': 'css-sde34i-PaginationItemNumber'})[-1].find('a').getText()) + 1"
   ]
  },
  {
   "cell_type": "code",
   "execution_count": 100,
   "metadata": {},
   "outputs": [
    {
     "name": "stdout",
     "output_type": "stream",
     "text": [
      "1\n",
      "2\n",
      "3\n",
      "4\n",
      "5\n",
      "6\n",
      "7\n",
      "8\n",
      "9\n",
      "10\n",
      "11\n",
      "12\n",
      "13\n",
      "14\n",
      "15\n",
      "16\n",
      "17\n",
      "18\n",
      "19\n"
     ]
    }
   ],
   "source": [
    "count = 0\n",
    "for n in range(1, last_page_nr):\n",
    "    base_url = f'https://www.zoopla.co.uk/for-sale/property/lambeth/?page_size=25&q=lambeth&radius=0&results_sort=newest_listings&pn={n}'\n",
    "    data = requests.get(base_url).content\n",
    "    soup = BeautifulSoup(data, 'html.parser')\n",
    "    listings_container = soup.find('div', {'class': 'css-kdnpqc-ListingsContainer'})\n",
    "    listings = listings_container.find_all('div', {'class': 'e2uk8e18'})\n",
    "    count += 1\n",
    "    print(count)\n",
    "    \n",
    "    #For loop for the listings list\n",
    "    for listing in listings:\n",
    "        #Price\n",
    "        price = listing.find('p', {'class': 'eczcs4p0'}).getText()\n",
    "        price_list.append(price)\n",
    "        \n",
    "        #Features\n",
    "        bed = listing.find('span', {'data-testid': 'bed'})\n",
    "        bath = listing.find('span', {'data-testid': 'bath'})\n",
    "        chair = listing.find('span', {'data-testid': 'chair'})\n",
    "        if bed:\n",
    "            bed_list.append(bed.find_next('p').getText())\n",
    "        else:\n",
    "            bed_list.append('1')\n",
    "        if bath:\n",
    "            bath_list.append(bath.find_next('p').getText())\n",
    "        else:\n",
    "            bath_list.append('1')\n",
    "        if chair:\n",
    "            chair_list.append(chair.find_next('p').getText())\n",
    "        else:\n",
    "            chair_list.append('0')\n",
    "\n",
    "        #Links\n",
    "        link = listing.find('a', {'data-testid': 'listing-details-link'}).attrs['href']\n",
    "        link_list.append(link)\n",
    "        \n",
    "        #Title\n",
    "        title = listing.find('h2', {'class': 'e2uk8e14'}).getText()\n",
    "        title_list.append(title)\n",
    "        \n",
    "        #Address\n",
    "        address = listing.find('h2', {'class': 'e2uk8e14'}).find_next('p').getText()\n",
    "        address_list.append(address)\n",
    "        \n",
    "        #Transportation\n",
    "        transport_container = listing.find('div', {'class': 'css-braguw-TransportWrapper'}).find_all('div', {'class': 'ejjz7ko0'})\n",
    "        transp1, transp2 = transport_container[:2]\n",
    "        \n",
    "        transport1 = transp1.attrs['content']\n",
    "        transport2 = transp2.attrs['content']\n",
    "        \n",
    "        transport1_list.append(transport1)\n",
    "        transport2_list.append(transport2)\n",
    "        \n",
    "        transport_type_1 = transp1.find('span', {'role': 'presentation'}).attrs['data-testid']\n",
    "        transport_type_2 = transp2.find('span', {'role': 'presentation'}).attrs['data-testid']\n",
    "        \n",
    "        transport_type_1_list.append(transport_type_1)\n",
    "        transport_type_2_list.append(transport_type_2)\n",
    "        \n",
    "        #Parking\n",
    "        parking = listing.find('div', {'content': 'Parking'})\n",
    "        if parking:\n",
    "            parking_list.append(1)\n",
    "        else:\n",
    "            parking_list.append(0)\n",
    "            \n",
    "        #Tags\n",
    "        tag = listings[0].find('span', {'class': 'css-10ddrfy-Tag-StyledTag'})\n",
    "        if tag:\n",
    "            tag_list.append(tag.getText())\n",
    "        else:\n",
    "            tag_list.append('None')"
   ]
  }
 ],
 "metadata": {
  "kernelspec": {
   "display_name": "Python 3",
   "language": "python",
   "name": "python3"
  },
  "language_info": {
   "codemirror_mode": {
    "name": "ipython",
    "version": 3
   },
   "file_extension": ".py",
   "mimetype": "text/x-python",
   "name": "python",
   "nbconvert_exporter": "python",
   "pygments_lexer": "ipython3",
   "version": "3.8.5"
  }
 },
 "nbformat": 4,
 "nbformat_minor": 4
}
