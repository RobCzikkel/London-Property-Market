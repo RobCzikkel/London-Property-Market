{
 "cells": [
  {
   "cell_type": "markdown",
   "metadata": {},
   "source": [
    "# To do:\n",
    "* Scrape listings\n",
    "* List of Boroughs\n",
    "* Data on crime rates, salaries etc... (Kaggle, Google, Gov stats)\n",
    "* Save it all to database"
   ]
  },
  {
   "cell_type": "code",
   "execution_count": 120,
   "metadata": {},
   "outputs": [
    {
     "name": "stdout",
     "output_type": "stream",
     "text": [
      "https://www.zoopla.co.uk/for-sale/property/lambeth/?page_size=25&q=lambeth&radius=0&results_sort=newest_listings&pn=1\n"
     ]
    }
   ],
   "source": [
    "borough = 'lambeth'\n",
    "page = '1'\n",
    "base_url = f'https://www.zoopla.co.uk/for-sale/property/{borough}/?page_size=25&q=lambeth&radius=0&results_sort=newest_listings&pn={page}'\n",
    "print(base_url)"
   ]
  },
  {
   "cell_type": "code",
   "execution_count": 121,
   "metadata": {},
   "outputs": [],
   "source": [
    "from bs4 import BeautifulSoup\n",
    "import requests"
   ]
  },
  {
   "cell_type": "code",
   "execution_count": 122,
   "metadata": {},
   "outputs": [],
   "source": [
    "data = requests.get(base_url).content"
   ]
  },
  {
   "cell_type": "code",
   "execution_count": 123,
   "metadata": {},
   "outputs": [],
   "source": [
    "soup = BeautifulSoup(data, 'html.parser')"
   ]
  },
  {
   "cell_type": "code",
   "execution_count": 124,
   "metadata": {},
   "outputs": [],
   "source": [
    "listings_container = soup.find('div', {'class': 'css-kdnpqc-ListingsContainer'})"
   ]
  },
  {
   "cell_type": "code",
   "execution_count": 125,
   "metadata": {},
   "outputs": [],
   "source": [
    "listings = listings_container.find_all('div', {'class': 'e2uk8e18'})"
   ]
  },
  {
   "cell_type": "code",
   "execution_count": 126,
   "metadata": {},
   "outputs": [],
   "source": [
    "price = listings[0].find('p', {'class': 'eczcs4p0'}).getText()"
   ]
  },
  {
   "cell_type": "code",
   "execution_count": 147,
   "metadata": {
    "scrolled": true
   },
   "outputs": [
    {
     "name": "stdout",
     "output_type": "stream",
     "text": [
      "2\n",
      "2\n",
      "1\n"
     ]
    }
   ],
   "source": [
    "# Solution 1\n",
    "def features(feat):\n",
    "    if feat:\n",
    "        print(feat.find_next('p').getText())\n",
    "    else:\n",
    "        print(None)\n",
    "\n",
    "feat_list = ['bed', 'bath', 'chair']\n",
    "for i in range(len(feat_list)):\n",
    "    features(listings[0].find('span', {'data-testid': feat_list[i]}))\n",
    "    "
   ]
  },
  {
   "cell_type": "code",
   "execution_count": 146,
   "metadata": {},
   "outputs": [],
   "source": [
    "# feat.attrs['data-testid'] == 'bed'\n",
    "# feat.find_next('p').getText()"
   ]
  },
  {
   "cell_type": "code",
   "execution_count": null,
   "metadata": {},
   "outputs": [],
   "source": []
  }
 ],
 "metadata": {
  "kernelspec": {
   "display_name": "Python 3",
   "language": "python",
   "name": "python3"
  },
  "language_info": {
   "codemirror_mode": {
    "name": "ipython",
    "version": 3
   },
   "file_extension": ".py",
   "mimetype": "text/x-python",
   "name": "python",
   "nbconvert_exporter": "python",
   "pygments_lexer": "ipython3",
   "version": "3.8.5"
  }
 },
 "nbformat": 4,
 "nbformat_minor": 4
}
